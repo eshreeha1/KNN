{
  "nbformat": 4,
  "nbformat_minor": 0,
  "metadata": {
    "colab": {
      "name": "KNN.ipynb",
      "version": "0.3.2",
      "provenance": [],
      "collapsed_sections": []
    },
    "kernelspec": {
      "name": "python3",
      "display_name": "Python 3"
    },
    "accelerator": "GPU"
  },
  "cells": [
    {
      "metadata": {
        "id": "tIcP4QUdXfV8",
        "colab_type": "code",
        "colab": {}
      },
      "cell_type": "code",
      "source": [
        "import numpy as np\n",
        "import pandas as pd\n",
        "import operator"
      ],
      "execution_count": 0,
      "outputs": []
    },
    {
      "metadata": {
        "id": "-hN0_ZgaYdAm",
        "colab_type": "code",
        "outputId": "afc7ffda-51c6-4830-e34b-4f632f5d536a",
        "colab": {
          "base_uri": "https://localhost:8080/",
          "height": 203
        }
      },
      "cell_type": "code",
      "source": [
        "# importing file\n",
        "url=\"https://drive.google.com/uc?export=download&id=1vW1eVZDfW-heTNtx_Gjv6LXCspIc3xdZ\"\n",
        "data = pd.read_csv(url, header = 0)\n",
        "data.head()"
      ],
      "execution_count": 0,
      "outputs": [
        {
          "output_type": "execute_result",
          "data": {
            "text/html": [
              "<div>\n",
              "<style scoped>\n",
              "    .dataframe tbody tr th:only-of-type {\n",
              "        vertical-align: middle;\n",
              "    }\n",
              "\n",
              "    .dataframe tbody tr th {\n",
              "        vertical-align: top;\n",
              "    }\n",
              "\n",
              "    .dataframe thead th {\n",
              "        text-align: right;\n",
              "    }\n",
              "</style>\n",
              "<table border=\"1\" class=\"dataframe\">\n",
              "  <thead>\n",
              "    <tr style=\"text-align: right;\">\n",
              "      <th></th>\n",
              "      <th>Id</th>\n",
              "      <th>SepalLengthCm</th>\n",
              "      <th>SepalWidthCm</th>\n",
              "      <th>PetalLengthCm</th>\n",
              "      <th>PetalWidthCm</th>\n",
              "      <th>Species</th>\n",
              "    </tr>\n",
              "  </thead>\n",
              "  <tbody>\n",
              "    <tr>\n",
              "      <th>0</th>\n",
              "      <td>1</td>\n",
              "      <td>5.1</td>\n",
              "      <td>3.5</td>\n",
              "      <td>1.4</td>\n",
              "      <td>0.2</td>\n",
              "      <td>Iris-setosa</td>\n",
              "    </tr>\n",
              "    <tr>\n",
              "      <th>1</th>\n",
              "      <td>2</td>\n",
              "      <td>4.9</td>\n",
              "      <td>3.0</td>\n",
              "      <td>1.4</td>\n",
              "      <td>0.2</td>\n",
              "      <td>Iris-setosa</td>\n",
              "    </tr>\n",
              "    <tr>\n",
              "      <th>2</th>\n",
              "      <td>3</td>\n",
              "      <td>4.7</td>\n",
              "      <td>3.2</td>\n",
              "      <td>1.3</td>\n",
              "      <td>0.2</td>\n",
              "      <td>Iris-setosa</td>\n",
              "    </tr>\n",
              "    <tr>\n",
              "      <th>3</th>\n",
              "      <td>4</td>\n",
              "      <td>4.6</td>\n",
              "      <td>3.1</td>\n",
              "      <td>1.5</td>\n",
              "      <td>0.2</td>\n",
              "      <td>Iris-setosa</td>\n",
              "    </tr>\n",
              "    <tr>\n",
              "      <th>4</th>\n",
              "      <td>5</td>\n",
              "      <td>5.0</td>\n",
              "      <td>3.6</td>\n",
              "      <td>1.4</td>\n",
              "      <td>0.2</td>\n",
              "      <td>Iris-setosa</td>\n",
              "    </tr>\n",
              "  </tbody>\n",
              "</table>\n",
              "</div>"
            ],
            "text/plain": [
              "   Id  SepalLengthCm  SepalWidthCm  PetalLengthCm  PetalWidthCm      Species\n",
              "0   1            5.1           3.5            1.4           0.2  Iris-setosa\n",
              "1   2            4.9           3.0            1.4           0.2  Iris-setosa\n",
              "2   3            4.7           3.2            1.3           0.2  Iris-setosa\n",
              "3   4            4.6           3.1            1.5           0.2  Iris-setosa\n",
              "4   5            5.0           3.6            1.4           0.2  Iris-setosa"
            ]
          },
          "metadata": {
            "tags": []
          },
          "execution_count": 2
        }
      ]
    },
    {
      "metadata": {
        "id": "BJJ4Ac1tbyRO",
        "colab_type": "code",
        "colab": {}
      },
      "cell_type": "code",
      "source": [
        "data = data.drop(['Id'], axis=1)\n"
      ],
      "execution_count": 0,
      "outputs": []
    },
    {
      "metadata": {
        "id": "pxY3uytccSJ3",
        "colab_type": "code",
        "outputId": "240a3ef6-40e0-405b-edbe-02604202028b",
        "colab": {
          "base_uri": "https://localhost:8080/",
          "height": 203
        }
      },
      "cell_type": "code",
      "source": [
        "data.head()"
      ],
      "execution_count": 0,
      "outputs": [
        {
          "output_type": "execute_result",
          "data": {
            "text/html": [
              "<div>\n",
              "<style scoped>\n",
              "    .dataframe tbody tr th:only-of-type {\n",
              "        vertical-align: middle;\n",
              "    }\n",
              "\n",
              "    .dataframe tbody tr th {\n",
              "        vertical-align: top;\n",
              "    }\n",
              "\n",
              "    .dataframe thead th {\n",
              "        text-align: right;\n",
              "    }\n",
              "</style>\n",
              "<table border=\"1\" class=\"dataframe\">\n",
              "  <thead>\n",
              "    <tr style=\"text-align: right;\">\n",
              "      <th></th>\n",
              "      <th>SepalLengthCm</th>\n",
              "      <th>SepalWidthCm</th>\n",
              "      <th>PetalLengthCm</th>\n",
              "      <th>PetalWidthCm</th>\n",
              "      <th>Species</th>\n",
              "    </tr>\n",
              "  </thead>\n",
              "  <tbody>\n",
              "    <tr>\n",
              "      <th>0</th>\n",
              "      <td>5.1</td>\n",
              "      <td>3.5</td>\n",
              "      <td>1.4</td>\n",
              "      <td>0.2</td>\n",
              "      <td>Iris-setosa</td>\n",
              "    </tr>\n",
              "    <tr>\n",
              "      <th>1</th>\n",
              "      <td>4.9</td>\n",
              "      <td>3.0</td>\n",
              "      <td>1.4</td>\n",
              "      <td>0.2</td>\n",
              "      <td>Iris-setosa</td>\n",
              "    </tr>\n",
              "    <tr>\n",
              "      <th>2</th>\n",
              "      <td>4.7</td>\n",
              "      <td>3.2</td>\n",
              "      <td>1.3</td>\n",
              "      <td>0.2</td>\n",
              "      <td>Iris-setosa</td>\n",
              "    </tr>\n",
              "    <tr>\n",
              "      <th>3</th>\n",
              "      <td>4.6</td>\n",
              "      <td>3.1</td>\n",
              "      <td>1.5</td>\n",
              "      <td>0.2</td>\n",
              "      <td>Iris-setosa</td>\n",
              "    </tr>\n",
              "    <tr>\n",
              "      <th>4</th>\n",
              "      <td>5.0</td>\n",
              "      <td>3.6</td>\n",
              "      <td>1.4</td>\n",
              "      <td>0.2</td>\n",
              "      <td>Iris-setosa</td>\n",
              "    </tr>\n",
              "  </tbody>\n",
              "</table>\n",
              "</div>"
            ],
            "text/plain": [
              "   SepalLengthCm  SepalWidthCm  PetalLengthCm  PetalWidthCm      Species\n",
              "0            5.1           3.5            1.4           0.2  Iris-setosa\n",
              "1            4.9           3.0            1.4           0.2  Iris-setosa\n",
              "2            4.7           3.2            1.3           0.2  Iris-setosa\n",
              "3            4.6           3.1            1.5           0.2  Iris-setosa\n",
              "4            5.0           3.6            1.4           0.2  Iris-setosa"
            ]
          },
          "metadata": {
            "tags": []
          },
          "execution_count": 4
        }
      ]
    },
    {
      "metadata": {
        "id": "tI-h2qQ1Yhjf",
        "colab_type": "code",
        "colab": {}
      },
      "cell_type": "code",
      "source": [
        "# Defining a function which calculates euclidean distance between two data points\n",
        "def euclideandistance(data1, data2, length):\n",
        "  distance = 0\n",
        "  for x in range(length):\n",
        "    distance += (data1[x] - data2[x])**2\n",
        "  return np.sqrt(distance)\n",
        "    \n",
        "    \n",
        "  "
      ],
      "execution_count": 0,
      "outputs": []
    },
    {
      "metadata": {
        "id": "1t9LZW5UdE49",
        "colab_type": "code",
        "colab": {}
      },
      "cell_type": "code",
      "source": [
        "#defining Knn\n",
        "def knn(trainingset, testinstance, k):\n",
        "  distance =[]\n",
        "  length = len(testinstance)\n",
        "  \n",
        "  for x in range(len(trainingset)):\n",
        "    dist = euclideandistance(trainingset[x], testinstance, length)\n",
        "    distance.append((trainingset[x],dist))\n",
        "    distance.sort(key = operator.itemgetter(1))\n",
        "  #print(distance)\n",
        "    \n",
        "  neighbor =[]\n",
        "  \n",
        "  for x in range(k):\n",
        "    neighbor.append(distance[x][0])\n",
        "    #print('neighbors : '+ str(neighbor))\n",
        "    \n",
        "  classval={}\n",
        "  \n",
        "  for x in range(len(neighbor)):\n",
        "    response = neighbor[x][-1]\n",
        "    if response in classval:\n",
        "      classval[response] += 1\n",
        "    else:\n",
        "      classval[response] = 1\n",
        "   \n",
        "  print('classval: '+str(classval))\n",
        "  \n",
        "  sortedvotes = sorted(classval.items() , key = operator.itemgetter(1), reverse = True)\n",
        "  return sortedvotes[0][0]\n",
        "    \n",
        "  \n",
        " \n",
        "  \n",
        "\n",
        "\n"
      ],
      "execution_count": 0,
      "outputs": []
    },
    {
      "metadata": {
        "id": "YE2M7WSOfkIx",
        "colab_type": "code",
        "outputId": "c24a3b6e-dd4c-4726-dd2a-5d951576d6ce",
        "colab": {
          "base_uri": "https://localhost:8080/",
          "height": 615
        }
      },
      "cell_type": "code",
      "source": [
        "#spliting data into training ans test\n",
        "\n",
        "msk = np.random.rand(len(data)) < 0.8\n",
        "\n",
        "train = data[msk]\n",
        "train = train.values.tolist()\n",
        "test = data[~msk]\n",
        "\n",
        "\n",
        "\n",
        "test1 = test.drop(['Species'], axis=1)\n",
        "test1 = test1.values.tolist()\n",
        "\n",
        "store =[]\n",
        "for i in range(len(test1)):\n",
        "  store.append(knn(train, test1[i], 3))\n",
        "  \n",
        "  "
      ],
      "execution_count": 0,
      "outputs": [
        {
          "output_type": "stream",
          "text": [
            "classval: {'Iris-setosa': 3}\n",
            "classval: {'Iris-setosa': 3}\n",
            "classval: {'Iris-setosa': 3}\n",
            "classval: {'Iris-setosa': 3}\n",
            "classval: {'Iris-setosa': 3}\n",
            "classval: {'Iris-setosa': 3}\n",
            "classval: {'Iris-setosa': 3}\n",
            "classval: {'Iris-setosa': 3}\n",
            "classval: {'Iris-setosa': 3}\n",
            "classval: {'Iris-setosa': 3}\n",
            "classval: {'Iris-setosa': 3}\n",
            "classval: {'Iris-setosa': 3}\n",
            "classval: {'Iris-setosa': 3}\n",
            "classval: {'Iris-versicolor': 3}\n",
            "classval: {'Iris-versicolor': 3}\n",
            "classval: {'Iris-versicolor': 3}\n",
            "classval: {'Iris-versicolor': 3}\n",
            "classval: {'Iris-versicolor': 3}\n",
            "classval: {'Iris-versicolor': 3}\n",
            "classval: {'Iris-versicolor': 3}\n",
            "classval: {'Iris-virginica': 3}\n",
            "classval: {'Iris-virginica': 3}\n",
            "classval: {'Iris-virginica': 3}\n",
            "classval: {'Iris-versicolor': 3}\n",
            "classval: {'Iris-virginica': 3}\n",
            "classval: {'Iris-virginica': 3}\n",
            "classval: {'Iris-virginica': 3}\n",
            "classval: {'Iris-virginica': 3}\n",
            "classval: {'Iris-virginica': 3}\n",
            "classval: {'Iris-virginica': 3}\n",
            "classval: {'Iris-versicolor': 2, 'Iris-virginica': 1}\n",
            "classval: {'Iris-virginica': 3}\n",
            "classval: {'Iris-virginica': 3}\n",
            "classval: {'Iris-virginica': 3}\n"
          ],
          "name": "stdout"
        }
      ]
    },
    {
      "metadata": {
        "id": "BmT-LbuykTQg",
        "colab_type": "code",
        "outputId": "27fc6c65-ccd9-452e-d355-701a0c120cc3",
        "colab": {
          "base_uri": "https://localhost:8080/",
          "height": 615
        }
      },
      "cell_type": "code",
      "source": [
        "store"
      ],
      "execution_count": 0,
      "outputs": [
        {
          "output_type": "execute_result",
          "data": {
            "text/plain": [
              "['Iris-setosa',\n",
              " 'Iris-setosa',\n",
              " 'Iris-setosa',\n",
              " 'Iris-setosa',\n",
              " 'Iris-setosa',\n",
              " 'Iris-setosa',\n",
              " 'Iris-setosa',\n",
              " 'Iris-setosa',\n",
              " 'Iris-setosa',\n",
              " 'Iris-setosa',\n",
              " 'Iris-setosa',\n",
              " 'Iris-setosa',\n",
              " 'Iris-setosa',\n",
              " 'Iris-versicolor',\n",
              " 'Iris-versicolor',\n",
              " 'Iris-versicolor',\n",
              " 'Iris-versicolor',\n",
              " 'Iris-versicolor',\n",
              " 'Iris-versicolor',\n",
              " 'Iris-versicolor',\n",
              " 'Iris-virginica',\n",
              " 'Iris-virginica',\n",
              " 'Iris-virginica',\n",
              " 'Iris-versicolor',\n",
              " 'Iris-virginica',\n",
              " 'Iris-virginica',\n",
              " 'Iris-virginica',\n",
              " 'Iris-virginica',\n",
              " 'Iris-virginica',\n",
              " 'Iris-virginica',\n",
              " 'Iris-versicolor',\n",
              " 'Iris-virginica',\n",
              " 'Iris-virginica',\n",
              " 'Iris-virginica']"
            ]
          },
          "metadata": {
            "tags": []
          },
          "execution_count": 8
        }
      ]
    },
    {
      "metadata": {
        "id": "YtStzOjbuMd2",
        "colab_type": "code",
        "outputId": "cd8fb64f-8b06-4fc2-f736-513469e3b330",
        "colab": {
          "base_uri": "https://localhost:8080/",
          "height": 35
        }
      },
      "cell_type": "code",
      "source": [
        "train[100]"
      ],
      "execution_count": 0,
      "outputs": [
        {
          "output_type": "execute_result",
          "data": {
            "text/plain": [
              "[5.6, 2.8, 4.9, 2.0, 'Iris-virginica']"
            ]
          },
          "metadata": {
            "tags": []
          },
          "execution_count": 143
        }
      ]
    }
  ]
}